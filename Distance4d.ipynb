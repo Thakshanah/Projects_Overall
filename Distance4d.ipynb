{
  "nbformat": 4,
  "nbformat_minor": 0,
  "metadata": {
    "colab": {
      "name": "Untitled1.ipynb",
      "provenance": [],
      "authorship_tag": "ABX9TyNe44n1kPka4t2IaY2rJ5fR",
      "include_colab_link": true
    },
    "kernelspec": {
      "name": "python3",
      "display_name": "Python 3"
    },
    "language_info": {
      "name": "python"
    }
  },
  "cells": [
    {
      "cell_type": "markdown",
      "metadata": {
        "id": "view-in-github",
        "colab_type": "text"
      },
      "source": [
        "<a href=\"https://colab.research.google.com/github/Thakshanah/Thakshanah/blob/main/Distance4d.ipynb\" target=\"_parent\"><img src=\"https://colab.research.google.com/assets/colab-badge.svg\" alt=\"Open In Colab\"/></a>"
      ]
    },
    {
      "cell_type": "code",
      "execution_count": 2,
      "metadata": {
        "colab": {
          "base_uri": "https://localhost:8080/"
        },
        "id": "bnv8Ry1ixZ_y",
        "outputId": "e11fdb94-25fe-402c-b0eb-f845775ff32f"
      },
      "outputs": [
        {
          "output_type": "stream",
          "name": "stdout",
          "text": [
            "Enter X1:1\n",
            "Enter Y1:1\n",
            "Enter Z1:1\n",
            "Enter A1:1\n",
            "Enter X2:2\n",
            "Enter Y2:3\n",
            "Enter Z2:4\n",
            "Enter A2:5\n",
            "The Distance between two points is : \n",
            "5.477225575051661\n"
          ]
        }
      ],
      "source": [
        "import math\n",
        "x1=float(input('Enter X1:'))\n",
        "y1=float(input('Enter Y1:'))\n",
        "z1=float(input('Enter Z1:'))\n",
        "a1=float(input('Enter A1:'))\n",
        "x2=float(input('Enter X2:'))\n",
        "y2=float(input('Enter Y2:'))\n",
        "z2=float(input('Enter Z2:'))\n",
        "a2=float(input('Enter A2:'))\n",
        "\n",
        "print('The Distance between two points is : ')\n",
        "print(math.sqrt((x1-x2)**2+(y1-y2)**2+(z1-z2)**2+(a1-a2)**2))\n"
      ]
    }
  ]
}