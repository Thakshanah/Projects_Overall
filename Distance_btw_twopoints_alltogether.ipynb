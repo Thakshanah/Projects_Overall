{
  "nbformat": 4,
  "nbformat_minor": 0,
  "metadata": {
    "colab": {
      "name": "Distance_btw_twopoints_alltogether.ipynb",
      "provenance": [],
      "collapsed_sections": [],
      "authorship_tag": "ABX9TyNzorPHiZ3QNTyhMsF+z5aR",
      "include_colab_link": true
    },
    "kernelspec": {
      "name": "python3",
      "display_name": "Python 3"
    },
    "language_info": {
      "name": "python"
    }
  },
  "cells": [
    {
      "cell_type": "markdown",
      "metadata": {
        "id": "view-in-github",
        "colab_type": "text"
      },
      "source": [
        "<a href=\"https://colab.research.google.com/github/Thakshanah/Thakshanah/blob/main/Distance_btw_twopoints_alltogether.ipynb\" target=\"_parent\"><img src=\"https://colab.research.google.com/assets/colab-badge.svg\" alt=\"Open In Colab\"/></a>"
      ]
    },
    {
      "cell_type": "code",
      "execution_count": 1,
      "metadata": {
        "colab": {
          "base_uri": "https://localhost:8080/"
        },
        "id": "QEEZN4TotnkQ",
        "outputId": "7b5e16db-1a4f-4e4c-ae54-e6358a57bbe1"
      },
      "outputs": [
        {
          "output_type": "stream",
          "name": "stdout",
          "text": [
            "In which plane do you need to find the distance:3\n",
            "The distance between two points in 3D plane\n",
            "Enter X1:1\n",
            "Enter Y1:2\n",
            "Enter Z1:5\n",
            "Enter X2:6\n",
            "Enter Y2:9\n",
            "Enter Z2:2\n",
            "The Distance between two points is : \n",
            "9.1104335791443\n"
          ]
        }
      ],
      "source": [
        "7\n",
        "\n",
        "\n",
        "import math\n",
        "d=int(input('In which plane do you need to find the distance:'))\n",
        "print('The distance between two points in '+str(d)+'D plane')\n",
        "\n",
        "if d==2:\n",
        "    x1=float(input('Enter X1:'))\n",
        "    y1=float(input('Enter Y1:'))\n",
        "    x2=float(input('Enter X2:'))\n",
        "    y2=float(input('Enter Y2:'))\n",
        "\n",
        "    print('The Distance between two points is : ')\n",
        "    print(math.sqrt((x1-x2)**2+(y1-y2)**2))\n",
        "\n",
        "elif d==3:\n",
        "    x1=float(input('Enter X1:'))\n",
        "    y1=float(input('Enter Y1:'))\n",
        "    z1=float(input('Enter Z1:'))\n",
        "    x2=float(input('Enter X2:'))\n",
        "    y2=float(input('Enter Y2:'))\n",
        "    z2=float(input('Enter Z2:'))\n",
        "\n",
        "    print('The Distance between two points is : ')\n",
        "    print(math.sqrt((x1-x2)**2+(y1-y2)**2+(z1-z2)**2))\n",
        "\n",
        "elif d==4:\n",
        "    x1=float(input('Enter X1:'))\n",
        "    y1=float(input('Enter Y1:'))\n",
        "    z1=float(input('Enter Z1:'))\n",
        "    a1=float(input('Enter A1:'))\n",
        "    x2=float(input('Enter X2:'))\n",
        "    y2=float(input('Enter Y2:'))\n",
        "    z2=float(input('Enter Z2:'))\n",
        "    a2=float(input('Enter A2:'))\n",
        "\n",
        "    print('The Distance between two points is : ')\n",
        "    print(math.sqrt((x1-x2)**2+(y1-y2)**2+(z1-z2)**2+(a1-a2)**2))\n",
        "\n",
        "else:\n",
        "    print('Invalid input')\n"
      ]
    }
  ]
}