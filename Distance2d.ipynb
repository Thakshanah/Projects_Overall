{
  "nbformat": 4,
  "nbformat_minor": 0,
  "metadata": {
    "colab": {
      "name": "Untitled1.ipynb",
      "provenance": [],
      "authorship_tag": "ABX9TyOUBiFaZ5LTtgFmz0cr+pcE",
      "include_colab_link": true
    },
    "kernelspec": {
      "name": "python3",
      "display_name": "Python 3"
    },
    "language_info": {
      "name": "python"
    }
  },
  "cells": [
    {
      "cell_type": "markdown",
      "metadata": {
        "id": "view-in-github",
        "colab_type": "text"
      },
      "source": [
        "<a href=\"https://colab.research.google.com/github/Thakshanah/Thakshanah/blob/main/Distance2d.ipynb\" target=\"_parent\"><img src=\"https://colab.research.google.com/assets/colab-badge.svg\" alt=\"Open In Colab\"/></a>"
      ]
    },
    {
      "cell_type": "code",
      "execution_count": 1,
      "metadata": {
        "colab": {
          "base_uri": "https://localhost:8080/"
        },
        "id": "bnv8Ry1ixZ_y",
        "outputId": "bb086831-ae8d-466e-cbaa-53855d5a44b4"
      },
      "outputs": [
        {
          "output_type": "stream",
          "name": "stdout",
          "text": [
            "Enter X1:1\n",
            "Enter Y1:4\n",
            "Enter X2:6\n",
            "Enter Y2:7\n",
            "The Distance between two points is : \n",
            "5.830951894845301\n"
          ]
        }
      ],
      "source": [
        "import math\n",
        "\n",
        "x1=float(input('Enter X1:'))\n",
        "y1=float(input('Enter Y1:'))\n",
        "x2=float(input('Enter X2:'))\n",
        "y2=float(input('Enter Y2:'))\n",
        "\n",
        "print('The Distance between two points is : ')\n",
        "print(math.sqrt((x1-x2)**2+(y1-y2)**2))"
      ]
    }
  ]
}