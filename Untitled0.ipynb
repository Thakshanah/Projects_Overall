{
  "nbformat": 4,
  "nbformat_minor": 0,
  "metadata": {
    "colab": {
      "name": "Untitled0.ipynb",
      "provenance": [],
      "authorship_tag": "ABX9TyOAgistKwF6BqBHvfOUTIh7",
      "include_colab_link": true
    },
    "kernelspec": {
      "name": "python3",
      "display_name": "Python 3"
    },
    "language_info": {
      "name": "python"
    }
  },
  "cells": [
    {
      "cell_type": "markdown",
      "metadata": {
        "id": "view-in-github",
        "colab_type": "text"
      },
      "source": [
        "<a href=\"https://colab.research.google.com/github/Thakshanah/Thakshanah/blob/main/Untitled0.ipynb\" target=\"_parent\"><img src=\"https://colab.research.google.com/assets/colab-badge.svg\" alt=\"Open In Colab\"/></a>"
      ]
    },
    {
      "cell_type": "code",
      "execution_count": 1,
      "metadata": {
        "colab": {
          "base_uri": "https://localhost:8080/"
        },
        "id": "RaGy7wV_viuB",
        "outputId": "cceb45b6-6fed-41da-bf75-6730746ff745"
      },
      "outputs": [
        {
          "output_type": "stream",
          "name": "stdout",
          "text": [
            "Enter X1:2\n",
            "Enter Y1:4\n",
            "Enter X2:2\n",
            "Enter Y2:2\n",
            "The Distance between two points is : \n",
            "2.0\n"
          ]
        }
      ],
      "source": [
        "import math\n",
        "\n",
        "x1=float(input('Enter X1:'))\n",
        "y1=float(input('Enter Y1:'))\n",
        "x2=float(input('Enter X2:'))\n",
        "y2=float(input('Enter Y2:'))\n",
        "\n",
        "print('The Distance between two points is : ')\n",
        "print(math.sqrt((x1-x2)**2+(y1-y2)**2))\n"
      ]
    }
  ]
}